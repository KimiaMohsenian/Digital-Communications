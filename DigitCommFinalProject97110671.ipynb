{
  "nbformat": 4,
  "nbformat_minor": 0,
  "metadata": {
    "colab": {
      "provenance": []
    },
    "kernelspec": {
      "name": "python3",
      "display_name": "Python 3"
    },
    "language_info": {
      "name": "python"
    }
  },
  "cells": [
    {
      "cell_type": "code",
      "execution_count": 2,
      "metadata": {
        "colab": {
          "base_uri": "https://localhost:8080/"
        },
        "id": "UNfrriv55h8n",
        "outputId": "de4776ac-28a9-44f7-a93b-c397cc9f4d66"
      },
      "outputs": [
        {
          "output_type": "stream",
          "name": "stdout",
          "text": [
            "Mounted at /content/drive\n"
          ]
        }
      ],
      "source": [
        "from google.colab import drive\n",
        "drive.mount('/content/drive')"
      ]
    },
    {
      "cell_type": "code",
      "source": [
        "pip install bitstring"
      ],
      "metadata": {
        "colab": {
          "base_uri": "https://localhost:8080/"
        },
        "id": "yrSRTXyn5kc9",
        "outputId": "4ddfc310-f472-4a38-c314-91a0d297796f"
      },
      "execution_count": 3,
      "outputs": [
        {
          "output_type": "stream",
          "name": "stdout",
          "text": [
            "Looking in indexes: https://pypi.org/simple, https://us-python.pkg.dev/colab-wheels/public/simple/\n",
            "Collecting bitstring\n",
            "  Downloading bitstring-4.0.1-py3-none-any.whl (45 kB)\n",
            "\u001b[2K     \u001b[90m━━━━━━━━━━━━━━━━━━━━━━━━━━━━━━━━━━━━━━━━\u001b[0m \u001b[32m45.6/45.6 KB\u001b[0m \u001b[31m2.8 MB/s\u001b[0m eta \u001b[36m0:00:00\u001b[0m\n",
            "\u001b[?25hInstalling collected packages: bitstring\n",
            "Successfully installed bitstring-4.0.1\n"
          ]
        }
      ]
    },
    {
      "cell_type": "code",
      "source": [
        "pip install komm"
      ],
      "metadata": {
        "colab": {
          "base_uri": "https://localhost:8080/"
        },
        "id": "4ynBr7Ri5ltR",
        "outputId": "c2f2b5a7-8dc4-4f89-e670-ae92f9ee49a0"
      },
      "execution_count": 4,
      "outputs": [
        {
          "output_type": "stream",
          "name": "stdout",
          "text": [
            "Looking in indexes: https://pypi.org/simple, https://us-python.pkg.dev/colab-wheels/public/simple/\n",
            "Collecting komm\n",
            "  Downloading komm-0.7.1.tar.gz (50 kB)\n",
            "\u001b[2K     \u001b[90m━━━━━━━━━━━━━━━━━━━━━━━━━━━━━━━━━━━━━━━━\u001b[0m \u001b[32m50.3/50.3 KB\u001b[0m \u001b[31m5.5 MB/s\u001b[0m eta \u001b[36m0:00:00\u001b[0m\n",
            "\u001b[?25h  Preparing metadata (setup.py) ... \u001b[?25l\u001b[?25hdone\n",
            "Requirement already satisfied: numpy in /usr/local/lib/python3.8/dist-packages (from komm) (1.21.6)\n",
            "Requirement already satisfied: scipy in /usr/local/lib/python3.8/dist-packages (from komm) (1.7.3)\n",
            "Building wheels for collected packages: komm\n",
            "  Building wheel for komm (setup.py) ... \u001b[?25l\u001b[?25hdone\n",
            "  Created wheel for komm: filename=komm-0.7.1-py3-none-any.whl size=56606 sha256=f9eec042ddebade9990f6c81f286f3f8f2d50eac8e650d6395578922a69b3bee\n",
            "  Stored in directory: /root/.cache/pip/wheels/84/c6/4b/4340e6f944c4edce43ced625131bff3c695bfbeefbb41000f2\n",
            "Successfully built komm\n",
            "Installing collected packages: komm\n",
            "Successfully installed komm-0.7.1\n"
          ]
        }
      ]
    },
    {
      "cell_type": "code",
      "source": [
        "import matplotlib.pyplot as plt\n",
        "import numpy as np\n",
        "import random\n",
        "from numpy.random import standard_normal\n",
        "import wave\n",
        "from bitstring import BitArray\n",
        "from scipy import special\n",
        "import math\n",
        "import struct\n",
        "import komm\n",
        "import sys"
      ],
      "metadata": {
        "id": "Cxj4Nkav5mLr"
      },
      "execution_count": 5,
      "outputs": []
    },
    {
      "cell_type": "code",
      "source": [
        "import warnings\n",
        "warnings.filterwarnings('ignore')"
      ],
      "metadata": {
        "id": "2F2LQsuuneig"
      },
      "execution_count": 6,
      "outputs": []
    },
    {
      "cell_type": "code",
      "source": [
        "def coherent_AWGN_Channel(InputSig, SNR_dB):\n",
        "  SNR = 10**(SNR_dB/10) \n",
        "  SigLength = len(InputSig)\n",
        "  #SNR = 2*EbN0 # energy of the symbol\n",
        "  SigPower = np.sum(abs(InputSig)**2)/SigLength        # power of the input signal\n",
        "  #SigPower = 1                                        \n",
        "  N0 = SigPower/SNR                                   # noise spectral density \n",
        "  # noise\n",
        "  noise = np.sqrt(N0/2)*(standard_normal(InputSig.shape)+1j*standard_normal(InputSig.shape))\n",
        "  # output\n",
        "  OutputSig = InputSig+noise\n",
        "  return OutputSig"
      ],
      "metadata": {
        "id": "hgR55ZFE6Dyg"
      },
      "execution_count": 7,
      "outputs": []
    },
    {
      "cell_type": "code",
      "source": [
        "def non_coherent_AWGN_Channel(InputSig, SNR_dB):\n",
        "  SNR = 10**(SNR_dB/10)\n",
        "  ambig_phase = ( np.random.randint(1,8) ) * np.pi/4\n",
        "  #print(math.degrees(ambig_phase))\n",
        "  shifted_input = [sig*(np.e**(ambig_phase*1j)) for sig in InputSig]\n",
        "  shifted_input = np.array(shifted_input)\n",
        "  awgn = komm.AWGNChannel(snr=SNR, signal_power=1)\n",
        "  output = awgn(shifted_input)\n",
        "  return output"
      ],
      "metadata": {
        "id": "7YpX3vjD1xkV"
      },
      "execution_count": 8,
      "outputs": []
    },
    {
      "cell_type": "code",
      "source": [
        "def coherent_qpsk_mod(input):\n",
        "  N = len(input)\n",
        "  chunks = [input[i:i+2] for i in range(0, N, 2)]\n",
        "  # constelation points\n",
        "  point0 = 1\n",
        "  point1 = 1j\n",
        "  point2 = -1j\n",
        "  point3 = -1\n",
        "  # mapping dictionaries\n",
        "  qpsk_mod = {'00':point0, '01':point1, '10': point2, '11':point3}   # mapping dictionary\n",
        "\n",
        "  ModulatedSig = np.zeros(int(N/2), dtype=complex)\n",
        "  for i in range(len(chunks)):\n",
        "    ModulatedSig[i] = qpsk_mod[chunks[i]]\n",
        "  \n",
        "  return ModulatedSig"
      ],
      "metadata": {
        "id": "E8pn8fc1h_4A"
      },
      "execution_count": 9,
      "outputs": []
    },
    {
      "cell_type": "code",
      "source": [
        "def coherent_qpsk_demod(input):\n",
        "  out = ''\n",
        "  qpsk_demod = {0:'00', 1:'01', 2:'10', 3:'11'}\n",
        "  for val in input:\n",
        "    elements = [np.real(val), np.imag(val), -1*np.imag(val), -1*np.real(val)]\n",
        "    idx = np.argmax(elements)\n",
        "    out += qpsk_demod[idx]\n",
        "  return(out)"
      ],
      "metadata": {
        "id": "-24bqa6DjrU9"
      },
      "execution_count": 10,
      "outputs": []
    },
    {
      "cell_type": "code",
      "source": [
        "def non_coherent_qpsk_mod(input):\n",
        "  chunks = [input[i:i+2] for i in range(0, len(input), 2)]\n",
        "  N = len(input)   \n",
        "  # constelation points\n",
        "  point0 = 1\n",
        "  point1 = 1j\n",
        "  point2 = -1j\n",
        "  point3 = -1\n",
        "  # mapping dictionaries\n",
        "  qpsk_phase_point   =   {0: point0, 90: point1, 270: point2, 180: point3}    # modulation phase to point mapper\n",
        "  qpsk_mod_phase = {'00':0, '01':90, '11':180, '10':270}                      # modulation string to point mapper\n",
        "\n",
        "  ModulatedSig = np.zeros(int(N/2), dtype=complex)\n",
        "  ModulatedSig[0] = 1\n",
        "  for i in range(1, len(chunks)):\n",
        "    phase_diff = qpsk_mod_phase[chunks[i]] - qpsk_mod_phase[chunks[i-1]] # differential coding\n",
        "    #ModulatedSig[i] = np.cos(math.radians(phase_diff)) + 1j*np.sin(math.radians(phase_diff))\n",
        "    if phase_diff<0:\n",
        "      phase_diff = phase_diff + 360\n",
        "    ModulatedSig[i] = qpsk_phase_point[phase_diff]\n",
        "  return ModulatedSig"
      ],
      "metadata": {
        "id": "FKQBdWM1VHrz"
      },
      "execution_count": 11,
      "outputs": []
    },
    {
      "cell_type": "code",
      "source": [
        "def non_coherent_qpsk_demod(input):\n",
        "\n",
        "  qpsk_dec =   {0: '00', 1: '01', 2: '10', 3: '11'}   # qpsk point to string mapper\n",
        "\n",
        "  output = '00'\n",
        "\n",
        "  current_phase = 0\n",
        "  for i in range(1, len(input)):\n",
        "    phase = math.degrees(np.angle(input[i])) \n",
        "    if phase<0:\n",
        "      phase = phase + 360\n",
        "    phase_diff = ( math.degrees(np.angle(input[i])) - math.degrees(np.angle(input[0])) ) % 360\n",
        "    print('phase diff: ', phase_diff)\n",
        "    current_phase += phase_diff\n",
        "    if current_phase>360:\n",
        "      current_phase = current_phase - 360\n",
        "    print('current phase: ', current_phase)\n",
        "\n",
        "    if 0<=current_phase<=45:\n",
        "      output += qpsk_dec[0]\n",
        "      print(0)\n",
        "    elif 45<current_phase<=135:\n",
        "      output += qpsk_dec[1]\n",
        "      print(1)\n",
        "    elif 135<current_phase<=225:\n",
        "      output += qpsk_dec[3]\n",
        "      print(3)\n",
        "    elif 225<current_phase<=315:\n",
        "      output += qpsk_dec[2]\n",
        "      print(2)\n",
        "    elif 315<current_phase<=360:\n",
        "      output += qpsk_dec[0]\n",
        "      print(0)\n",
        "    \n",
        "    print('---------------------------------')\n",
        "\n",
        "  return output"
      ],
      "metadata": {
        "id": "1Rk-hzYz-My1"
      },
      "execution_count": 331,
      "outputs": []
    },
    {
      "cell_type": "code",
      "source": [
        "def diff_encode(tx_bin, Nbits, Ndummy):\n",
        "    \"\"\"\n",
        "    Differential encoder\n",
        "    \n",
        "    Parameters\n",
        "    ----------\n",
        "    tx_bin : input binary array\n",
        "    Nbits : number of bits to be transmitted\n",
        "    Ndummy : number of dummy bits to cover any locking delay\n",
        "    \n",
        "    Returns\n",
        "    \n",
        "    -------\n",
        "    tx_diff : encoded binary array for transmission\n",
        "    \"\"\"\n",
        "    # Differential Encoding:\n",
        "    tx_diff = np.zeros(1, dtype=bool)\n",
        "    for i in range(Nbits + Ndummy):\n",
        "        tx_diff = np.append(tx_diff, tx_diff[i]^tx_bin[i])\n",
        "    return tx_diff"
      ],
      "metadata": {
        "id": "8tg0SV4tcRK-"
      },
      "execution_count": 13,
      "outputs": []
    },
    {
      "cell_type": "code",
      "source": [
        "def diff_decode(rx_diff, Nbits):\n",
        "    \"\"\"\n",
        "    Differential decoder\n",
        "    \n",
        "    Parameters\n",
        "    ----------\n",
        "    rx_diff : received encoded binary array\n",
        "    Nbits : number of bits to be transmitted\n",
        "    \n",
        "    Returns\n",
        "    \n",
        "    -------\n",
        "    rx_bin : decoded binary array\n",
        "    \"\"\"\n",
        "    rx_bin = np.empty(0, dtype=bool)\n",
        "    Nbits = Nbits-1\n",
        "    for i in range(Nbits):\n",
        "        rx_bin = np.append(rx_bin, rx_diff[i]^rx_diff[i+1]).astype(bool)\n",
        "    return rx_bin"
      ],
      "metadata": {
        "id": "H4UPiG8BcVR_"
      },
      "execution_count": 14,
      "outputs": []
    },
    {
      "cell_type": "code",
      "source": [
        "def non_coherent_qpsk_demod1(input):\n",
        "\n",
        "  qpsk_dec =   {0: '00', 1: '01', 2: '11', 3: '10'}   # qpsk point to string mapper\n",
        "\n",
        "  indx = 0\n",
        "  out = '00'\n",
        "  for i in range(1, len(input)):\n",
        "    phase_diff = ( math.degrees(np.angle(input[i])) - math.degrees(np.angle(input[0])) ) % 360\n",
        "    if phase_diff<0:\n",
        "      phase_diff = phase_diff+360\n",
        "\n",
        "    #print('delat_angle: ', phase_diff)\n",
        "    \n",
        "    if 0<=phase_diff<=45:\n",
        "      indx = indx+0\n",
        "      #print('my_angle: ', 0)\n",
        "    if 45<phase_diff<=135:\n",
        "      indx = indx+1\n",
        "      #print('my_angle: ', 90)\n",
        "    if 135<phase_diff<=225:\n",
        "      indx = indx+2\n",
        "      #print('my_angle: ', 180)\n",
        "    if 225<phase_diff<=315:\n",
        "      indx = indx+3\n",
        "      #print('my_angle: ', 270)\n",
        "    if 315<phase_diff<=360:\n",
        "      indx = indx+0\n",
        "      #print('my_angle: ', 0)\n",
        "\n",
        "    \n",
        "    if indx>3:\n",
        "      indx = indx-4\n",
        "\n",
        "    #print('indx: ', indx)\n",
        "    \n",
        "    #print('------------')\n",
        "\n",
        "    out+=qpsk_dec[indx]\n",
        "  \n",
        "  return out[2:]\n"
      ],
      "metadata": {
        "id": "HeR2TcM2y_N5"
      },
      "execution_count": 378,
      "outputs": []
    },
    {
      "cell_type": "code",
      "source": [
        "audio_path = 'drive/MyDrive/DigitCommProject/my_voice1.wav'"
      ],
      "metadata": {
        "id": "NVI20NTy5zDv"
      },
      "execution_count": 15,
      "outputs": []
    },
    {
      "cell_type": "code",
      "source": [
        "InputObj = wave.open(audio_path,'r')"
      ],
      "metadata": {
        "id": "z1XSkKP75y9p"
      },
      "execution_count": 16,
      "outputs": []
    },
    {
      "cell_type": "code",
      "source": [
        "print (\"Number of frames: \",InputObj.getnframes())"
      ],
      "metadata": {
        "colab": {
          "base_uri": "https://localhost:8080/"
        },
        "id": "o-yCpP-35y2J",
        "outputId": "c7a0091e-931b-4f6e-fa60-a0c6be6a003a"
      },
      "execution_count": 17,
      "outputs": [
        {
          "output_type": "stream",
          "name": "stdout",
          "text": [
            "Number of frames:  211904\n"
          ]
        }
      ]
    },
    {
      "cell_type": "code",
      "source": [
        "print('Sample width: ', InputObj.getsampwidth())"
      ],
      "metadata": {
        "colab": {
          "base_uri": "https://localhost:8080/"
        },
        "id": "xuhqA6Ulqc6W",
        "outputId": "6d2fb6c4-41d8-4419-aee2-eddf79db9de8"
      },
      "execution_count": 18,
      "outputs": [
        {
          "output_type": "stream",
          "name": "stdout",
          "text": [
            "Sample width:  2\n"
          ]
        }
      ]
    },
    {
      "cell_type": "code",
      "source": [
        "print('Number of channels: ' , InputObj.getnchannels())"
      ],
      "metadata": {
        "colab": {
          "base_uri": "https://localhost:8080/"
        },
        "id": "BhhU20IYqlBI",
        "outputId": "a2a30036-4807-4dcd-9398-3a2be9452f61"
      },
      "execution_count": 19,
      "outputs": [
        {
          "output_type": "stream",
          "name": "stdout",
          "text": [
            "Number of channels:  1\n"
          ]
        }
      ]
    },
    {
      "cell_type": "code",
      "source": [
        "rate = InputObj.getframerate()\n",
        "print('Smpling frequency: ', rate)"
      ],
      "metadata": {
        "colab": {
          "base_uri": "https://localhost:8080/"
        },
        "id": "bMgEgU6u55z8",
        "outputId": "48dc5d10-c047-43a6-8dab-dfe03805f40d"
      },
      "execution_count": 20,
      "outputs": [
        {
          "output_type": "stream",
          "name": "stdout",
          "text": [
            "Smpling frequency:  48000\n"
          ]
        }
      ]
    },
    {
      "cell_type": "code",
      "source": [
        "InputBytes = InputObj.readframes(InputObj.getnframes())"
      ],
      "metadata": {
        "id": "TdINBDxE57bu"
      },
      "execution_count": 21,
      "outputs": []
    },
    {
      "cell_type": "code",
      "source": [
        "print('Numebr of input bytes: ', len(InputBytes))"
      ],
      "metadata": {
        "colab": {
          "base_uri": "https://localhost:8080/"
        },
        "id": "vIb3M3S059Sg",
        "outputId": "487d97cd-dd18-4e0a-c0a4-166a71f49e39"
      },
      "execution_count": 22,
      "outputs": [
        {
          "output_type": "stream",
          "name": "stdout",
          "text": [
            "Numebr of input bytes:  423808\n"
          ]
        }
      ]
    },
    {
      "cell_type": "code",
      "source": [
        "header_bytes = InputBytes[0:44]\n",
        "Information_bytes = InputBytes[44:]"
      ],
      "metadata": {
        "id": "rTo_dacb-rnk"
      },
      "execution_count": 23,
      "outputs": []
    },
    {
      "cell_type": "code",
      "source": [
        "print('Number of information bytes: ', len(Information_bytes))"
      ],
      "metadata": {
        "colab": {
          "base_uri": "https://localhost:8080/"
        },
        "id": "TzFewLZNG_l1",
        "outputId": "160f7532-c3ac-4b20-9d58-f706ee910eed"
      },
      "execution_count": 24,
      "outputs": [
        {
          "output_type": "stream",
          "name": "stdout",
          "text": [
            "Number of information bytes:  423764\n"
          ]
        }
      ]
    },
    {
      "cell_type": "code",
      "source": [
        "Information_bits = ''\n",
        "for i in range(len(Information_bytes)):\n",
        "  temp = '{0:08b}'.format(Information_bytes[i])\n",
        "  Information_bits += temp\n",
        "print('Number of input information bits: ', len(Information_bits))"
      ],
      "metadata": {
        "colab": {
          "base_uri": "https://localhost:8080/"
        },
        "id": "SXcIOa9J8Iqk",
        "outputId": "3e95c5c3-3277-4e89-bff8-788f1f65a398"
      },
      "execution_count": 25,
      "outputs": [
        {
          "output_type": "stream",
          "name": "stdout",
          "text": [
            "Number of input information bits:  3390112\n"
          ]
        }
      ]
    },
    {
      "cell_type": "markdown",
      "source": [
        "# Part a"
      ],
      "metadata": {
        "id": "Iu9fK5NEp3XD"
      }
    },
    {
      "cell_type": "markdown",
      "source": [
        "### Coherent QPSK:"
      ],
      "metadata": {
        "id": "zfIfW75uoFjP"
      }
    },
    {
      "cell_type": "markdown",
      "source": [
        "Experiment:"
      ],
      "metadata": {
        "id": "5OmjHSy-pdn2"
      }
    },
    {
      "cell_type": "code",
      "source": [
        "N = len(Information_bits)\n",
        "EbN0_db_range = [0, 5, 10, 15]"
      ],
      "metadata": {
        "id": "FvPkqL0QA4Dy"
      },
      "execution_count": 112,
      "outputs": []
    },
    {
      "cell_type": "code",
      "source": [
        "output_data = []  # to store output data of all SNRs\n",
        "BER_coherent = []\n",
        "\n",
        "for EbN0_db in EbN0_db_range:\n",
        "\n",
        "  ModulatedSig = coherent_qpsk_mod(Information_bits)\n",
        "  ChannelOutput = coherent_AWGN_Channel(ModulatedSig, 2*EbN0_db)\n",
        "  DemodulatedSig = coherent_qpsk_demod(ChannelOutput)\n",
        "\n",
        "  output_data.append(DemodulatedSig)\n",
        "\n",
        "  num_errors = sum(a!=b  for a, b in zip(Information_bits, DemodulatedSig))\n",
        "  BER_coherent.append(num_errors/N)\n",
        "\n",
        "  print('Bit error rate in Eb/N0 =', EbN0_db, 'dB :', num_errors/N)\n"
      ],
      "metadata": {
        "colab": {
          "base_uri": "https://localhost:8080/"
        },
        "id": "a8v70KAdoBw4",
        "outputId": "6d2293aa-e0ca-4b00-900d-eb51c0517e94"
      },
      "execution_count": null,
      "outputs": [
        {
          "output_type": "stream",
          "name": "stdout",
          "text": [
            "Bit error rate in Eb/N0 = 0 dB : 0.15860537940929384\n",
            "Bit error rate in Eb/N0 = 5 dB : 0.0007793252848283478\n",
            "Bit error rate in Eb/N0 = 10 dB : 0.0\n",
            "Bit error rate in Eb/N0 = 15 dB : 0.0\n"
          ]
        }
      ]
    },
    {
      "cell_type": "markdown",
      "source": [
        "Theory:"
      ],
      "metadata": {
        "id": "iKEVvmTvpf85"
      }
    },
    {
      "cell_type": "code",
      "source": [
        "BER_th = []\n",
        "for EbN0_db in EbN0_db_range:\n",
        "  EbN0 = 10**(EbN0_db/10) \n",
        "  Q = 0.5 - 0.5*special.erf((2*EbN0)/np.sqrt(2))\n",
        "  p4 = 2*Q*(1-0.5*Q)\n",
        "  pb = 0.5*p4\n",
        "  BER_th.append(pb)\n",
        "  print('Bit error probability in Eb/N0 =', EbN0_db, 'dB :', pb)"
      ],
      "metadata": {
        "colab": {
          "base_uri": "https://localhost:8080/"
        },
        "id": "dkjJ83yVpg7l",
        "outputId": "4fe93c74-9ef8-4ea4-b340-8fa8229c8cf7"
      },
      "execution_count": null,
      "outputs": [
        {
          "output_type": "stream",
          "name": "stdout",
          "text": [
            "Bit error probability in Eb/N0 = 0 dB : 0.022491347696349424\n",
            "Bit error probability in Eb/N0 = 5 dB : 1.2698142536653275e-10\n",
            "Bit error probability in Eb/N0 = 10 dB : 0.0\n",
            "Bit error probability in Eb/N0 = 15 dB : 0.0\n"
          ]
        }
      ]
    },
    {
      "cell_type": "code",
      "source": [
        "plt.plot(EbN0_db_range, BER_coherent, 'o-',label='experiment', color='b')\n",
        "plt.plot(EbN0_db_range, BER_th, 'o-',label='theory', color='r')\n",
        "plt.xlabel('EbN0(dB)')\n",
        "plt.ylabel('BER')\n",
        "plt.grid(True)\n",
        "plt.title('Coherent QPSK')\n",
        "plt.legend()\n",
        "plt.show()"
      ],
      "metadata": {
        "colab": {
          "base_uri": "https://localhost:8080/",
          "height": 295
        },
        "id": "bgT9Dfc_pwo1",
        "outputId": "39a30373-29fe-4ccd-a5d8-874f39a71a35"
      },
      "execution_count": null,
      "outputs": [
        {
          "output_type": "display_data",
          "data": {
            "text/plain": [
              "<Figure size 432x288 with 1 Axes>"
            ],
            "image/png": "[encoded data removed]"
          },
          "metadata": {
            "needs_background": "light"
          }
        }
      ]
    },
    {
      "cell_type": "markdown",
      "source": [
        "output data to .wav audio file conversion:"
      ],
      "metadata": {
        "id": "bKWfC2Pvqk0W"
      }
    },
    {
      "cell_type": "code",
      "source": [
        "output_audio_base_path = 'drive/MyDrive/DigitCommProject/output_audios/part_a'"
      ],
      "metadata": {
        "id": "5UFkft9PqlOp"
      },
      "execution_count": null,
      "outputs": []
    },
    {
      "cell_type": "code",
      "source": [
        "sampleRate = rate # hertz\n",
        "duration = 4.0 # seconds\n",
        "obj = wave.open('drive/MyDrive/DigitCommProject/output_audios/part_a/coherent_EbN0_0.wav','w')\n",
        "obj.setnchannels(1) # mono\n",
        "obj.setsampwidth(2)\n",
        "obj.setframerate(sampleRate)\n",
        "output_audio = int(output_data[0], 2).to_bytes((len(output_data[0]) + 7) // 8, byteorder='big')\n",
        "output_audio = header_bytes + output_audio\n",
        "obj.writeframes( output_audio ) "
      ],
      "metadata": {
        "id": "ZlUqqow4o3nO"
      },
      "execution_count": null,
      "outputs": []
    },
    {
      "cell_type": "code",
      "source": [
        "sampleRate = rate # hertz\n",
        "duration = 4.0 # seconds\n",
        "obj = wave.open('drive/MyDrive/DigitCommProject/output_audios/part_a/coherent_EbN0_5.wav','w')\n",
        "obj.setnchannels(1) # mono\n",
        "obj.setsampwidth(2)\n",
        "obj.setframerate(sampleRate)\n",
        "output_audio = int(output_data[1], 2).to_bytes((len(output_data[1]) + 7) // 8, byteorder='big')\n",
        "output_audio = header_bytes + output_audio\n",
        "obj.writeframes( output_audio ) "
      ],
      "metadata": {
        "id": "R9AMnNG_rk9f"
      },
      "execution_count": null,
      "outputs": []
    },
    {
      "cell_type": "code",
      "source": [
        "sampleRate = rate # hertz\n",
        "duration = 4.0 # seconds\n",
        "obj = wave.open('drive/MyDrive/DigitCommProject/output_audios/part_a/coherent_EbN0_15.wav','w')\n",
        "obj.setnchannels(1) # mono\n",
        "obj.setsampwidth(2)\n",
        "obj.setframerate(sampleRate)\n",
        "output_audio = int(output_data[2], 2).to_bytes((len(output_data[2]) + 7) // 8, byteorder='big')\n",
        "output_audio = header_bytes + output_audio\n",
        "obj.writeframes( output_audio ) "
      ],
      "metadata": {
        "id": "rLjOAO2ArqDq"
      },
      "execution_count": null,
      "outputs": []
    },
    {
      "cell_type": "code",
      "source": [
        "sampleRate = rate # hertz\n",
        "duration = 4.0 # seconds\n",
        "obj = wave.open('drive/MyDrive/DigitCommProject/output_audios/part_a/coherent_EbN0_20.wav','w')\n",
        "obj.setnchannels(1) # mono\n",
        "obj.setsampwidth(2)\n",
        "obj.setframerate(sampleRate)\n",
        "output_audio = int(output_data[3], 2).to_bytes((len(output_data[3]) + 7) // 8, byteorder='big')\n",
        "output_audio = header_bytes + output_audio\n",
        "obj.writeframes( output_audio ) "
      ],
      "metadata": {
        "id": "ToE-MYUlrpud"
      },
      "execution_count": null,
      "outputs": []
    },
    {
      "cell_type": "markdown",
      "source": [
        "### Non-coherent QPSK:"
      ],
      "metadata": {
        "id": "dQE2_Yzxp5WF"
      }
    },
    {
      "cell_type": "code",
      "source": [
        "new_InputBits = '00' + Information_bits\n",
        "output_data_noncoherent = []\n",
        "BER_noncoherent = []\n",
        "\n",
        "\n",
        "for EbN0_db in [0, 5, 10, 15]:\n",
        "  # modulation\n",
        "  ModulatedSig = non_coherent_qpsk_mod(new_InputBits)\n",
        "  # non-coherent channel\n",
        "  ChannelOutput = non_coherent_AWGN_Channel(ModulatedSig, 2*EbN0_db)\n",
        "  # demodulation\n",
        "  DemodulatedSig = non_coherent_qpsk_demod1(ChannelOutput)\n",
        "\n",
        "  num_errors = sum(a!=b  for a, b in zip(Information_bits, DemodulatedSig))\n",
        "  ber = num_errors/len(Information_bits)\n",
        "  BER_noncoherent.append(ber)\n",
        "  output_data_noncoherent.append(DemodulatedSig)\n",
        "\n",
        "  print('Bit error rate in Eb/N0 =', EbN0_db, 'dB :', ber)"
      ],
      "metadata": {
        "colab": {
          "base_uri": "https://localhost:8080/"
        },
        "id": "rZchqu2zp9KG",
        "outputId": "d916bb06-2593-49dc-fc1a-7739ef6cd936"
      },
      "execution_count": 441,
      "outputs": [
        {
          "output_type": "stream",
          "name": "stdout",
          "text": [
            "Bit error rate in Eb/N0 = 0 dB : 0.49993658026637466\n",
            "Bit error rate in Eb/N0 = 5 dB : 0.4960591272500732\n",
            "Bit error rate in Eb/N0 = 10 dB : 0.0\n",
            "Bit error rate in Eb/N0 = 15 dB : 0.0\n"
          ]
        }
      ]
    },
    {
      "cell_type": "code",
      "source": [
        "plt.plot(EbN0_db_range, BER_noncoherent, 'o-',label='experiment', color='b')\n",
        "plt.xlabel('EbN0(dB)')\n",
        "plt.ylabel('BER')\n",
        "plt.grid(True)\n",
        "plt.title('Non-coherent QPSK')\n",
        "plt.show()"
      ],
      "metadata": {
        "colab": {
          "base_uri": "https://localhost:8080/",
          "height": 295
        },
        "id": "ATJVxh7gHJm7",
        "outputId": "050adb05-9091-4da0-a859-f9c5af93c68a"
      },
      "execution_count": 442,
      "outputs": [
        {
          "output_type": "display_data",
          "data": {
            "text/plain": [
              "<Figure size 432x288 with 1 Axes>"
            ],
            "image/png": "[encoded data removed]"
          },
          "metadata": {
            "needs_background": "light"
          }
        }
      ]
    },
    {
      "cell_type": "code",
      "source": [
        "sampleRate = rate # hertz\n",
        "duration = 4.0 # seconds\n",
        "obj = wave.open('drive/MyDrive/DigitCommProject/output_audios/part_a/noncoherent_EbN0_0.wav','w')\n",
        "obj.setnchannels(1) # mono\n",
        "obj.setsampwidth(2)\n",
        "obj.setframerate(sampleRate)\n",
        "output_audio = int(output_data_noncoherent[0], 2).to_bytes((len(output_data_noncoherent[0]) + 7) // 8, byteorder='big')\n",
        "output_audio = header_bytes + output_audio\n",
        "obj.writeframes( output_audio ) "
      ],
      "metadata": {
        "id": "tOMcrcDdHACR"
      },
      "execution_count": 443,
      "outputs": []
    },
    {
      "cell_type": "code",
      "source": [
        "sampleRate = rate # hertz\n",
        "duration = 4.0 # seconds\n",
        "obj = wave.open('drive/MyDrive/DigitCommProject/output_audios/part_a/noncoherent_EbN0_5.wav','w')\n",
        "obj.setnchannels(1) # mono\n",
        "obj.setsampwidth(2)\n",
        "obj.setframerate(sampleRate)\n",
        "output_audio = int(output_data_noncoherent[1], 2).to_bytes((len(output_data_noncoherent[1]) + 7) // 8, byteorder='big')\n",
        "output_audio = header_bytes + output_audio\n",
        "obj.writeframes( output_audio ) "
      ],
      "metadata": {
        "id": "uDGjew6gK2Wp"
      },
      "execution_count": 444,
      "outputs": []
    },
    {
      "cell_type": "code",
      "source": [
        "sampleRate = rate # hertz\n",
        "duration = 4.0 # seconds\n",
        "obj = wave.open('drive/MyDrive/DigitCommProject/output_audios/part_a/noncoherent_EbN0_10.wav','w')\n",
        "obj.setnchannels(1) # mono\n",
        "obj.setsampwidth(2)\n",
        "obj.setframerate(sampleRate)\n",
        "output_audio = int(output_data_noncoherent[2], 2).to_bytes((len(output_data_noncoherent[2]) + 7) // 8, byteorder='big')\n",
        "output_audio = header_bytes + output_audio\n",
        "obj.writeframes( output_audio ) "
      ],
      "metadata": {
        "id": "STD0g9OwLKqN"
      },
      "execution_count": 445,
      "outputs": []
    },
    {
      "cell_type": "code",
      "source": [
        "sampleRate = rate # hertz\n",
        "duration = 4.0 # seconds\n",
        "obj = wave.open('drive/MyDrive/DigitCommProject/output_audios/part_a/noncoherent_EbN0_15.wav','w')\n",
        "obj.setnchannels(1) # mono\n",
        "obj.setsampwidth(2)\n",
        "obj.setframerate(sampleRate)\n",
        "output_audio = int(output_data_noncoherent[3], 2).to_bytes((len(output_data_noncoherent[3]) + 7) // 8, byteorder='big')\n",
        "output_audio = header_bytes + output_audio\n",
        "obj.writeframes( output_audio ) "
      ],
      "metadata": {
        "id": "enjjqE1PLv4H"
      },
      "execution_count": 447,
      "outputs": []
    },
    {
      "cell_type": "markdown",
      "source": [
        "# Part b"
      ],
      "metadata": {
        "id": "byIyKJLFYLnC"
      }
    },
    {
      "cell_type": "markdown",
      "source": [
        "## Coherent"
      ],
      "metadata": {
        "id": "t0UIyDBUw8OF"
      }
    },
    {
      "cell_type": "markdown",
      "metadata": {
        "id": "SH8_fIZox0TJ"
      },
      "source": [
        "BCH(15, 11)"
      ]
    },
    {
      "cell_type": "code",
      "execution_count": 54,
      "metadata": {
        "colab": {
          "base_uri": "https://localhost:8080/"
        },
        "id": "hDsx9F4XYBSz",
        "outputId": "aa433b1b-a7e8-489f-f677-f70b678c361c"
      },
      "outputs": [
        {
          "output_type": "stream",
          "name": "stdout",
          "text": [
            "Code length: 15\n",
            "Code dimension: 11\n"
          ]
        }
      ],
      "source": [
        "# parameters of the coder\n",
        "n1 = 15\n",
        "k1 = 11\n",
        "m1 = 4\n",
        "t1 = 1\n",
        "code1 = komm.BCHCode(m1 ,t1) \n",
        "print('Code length:', code1.length)\n",
        "print('Code dimension:', code1.dimension)"
      ]
    },
    {
      "cell_type": "code",
      "source": [
        "N = len(Information_bits)\n",
        "InputSym1 = [ Information_bits[i:i+k1] for i in range(0, N, k1)]\n",
        "InputSym1_ = []\n",
        "for item in InputSym1:\n",
        "  temp = list(int(str(x)) for x in item)\n",
        "  InputSym1_.append(temp)"
      ],
      "metadata": {
        "id": "7ph36jJOwjEd"
      },
      "execution_count": 55,
      "outputs": []
    },
    {
      "cell_type": "code",
      "source": [
        "CodedSignal1 = [code1.encode(p) for p in InputSym1_]\n",
        "print('shape: ', np.shape(CodedSignal1))\n",
        "CodedSignal1 = np.array(CodedSignal1).ravel()\n",
        "print('after reshape: ', np.shape(CodedSignal1))"
      ],
      "metadata": {
        "colab": {
          "base_uri": "https://localhost:8080/"
        },
        "id": "UxrntO-ux_K6",
        "outputId": "9655032d-3aa8-4b38-ff16-9df2ac3c713b"
      },
      "execution_count": 28,
      "outputs": [
        {
          "output_type": "stream",
          "name": "stdout",
          "text": [
            "shape:  (308192, 15)\n",
            "after reshape:  (4622880,)\n"
          ]
        }
      ]
    },
    {
      "cell_type": "code",
      "source": [
        "#EbN0_db_range_coding1 = [ EbN0+10*np.log10(k1/n1) for EbN0 in [5, 10, 15, 20]]\n",
        "EbN0_db_range_coding1 = [(k1/n1)*i for i in EbN0_db_range]\n",
        "output_data_coherent_coding1 = []\n",
        "BER_coherent_coding1 = []\n",
        "\n",
        "qpsk = komm.PSKModulation(4, phase_offset=np.pi/4)\n",
        "modulated = qpsk.modulate(CodedSignal1)\n",
        "\n",
        "for EbN0_db in EbN0_db_range_coding1:\n",
        "  snr = 2* ( 10**(EbN0_db/10) )\n",
        "  awgn = komm.AWGNChannel(snr=snr, signal_power=1)\n",
        "  ChannelOutput = awgn(modulated)\n",
        "  demodulated = qpsk.demodulate(ChannelOutput)\n",
        "  demodulated_reshape = np.array(demodulated).reshape(-1, n1)\n",
        "  decoded = [code1.decode(p) for p in demodulated_reshape]\n",
        "  decoded = np.array(decoded)\n",
        "  decoded_ = np.ravel(decoded)\n",
        "\n",
        "  #num_error = np.sum(Information_bits != decoded)\n",
        "  num_error = np.sum(np.array(InputSym1_)!=decoded)\n",
        "  output_data_coherent_coding1.append(decoded)\n",
        "\n",
        "  #num_errors = sum(a!=b  for a, b in zip(Information_bits, decoded))\n",
        "  BER_coherent_coding1.append(num_error/N)\n",
        "\n",
        "  print('Bit error rate in SNR =', EbN0_db, 'dB :', num_error/N)"
      ],
      "metadata": {
        "colab": {
          "base_uri": "https://localhost:8080/"
        },
        "id": "-EidcJ6YEetU",
        "outputId": "dd25e654-1215-4a15-901c-3ae817baeaef"
      },
      "execution_count": 113,
      "outputs": [
        {
          "output_type": "stream",
          "name": "stdout",
          "text": [
            "Bit error rate in SNR = 0.0 dB : 0.07439577217507858\n",
            "Bit error rate in SNR = 3.6666666666666665 dB : 0.004488347287641234\n",
            "Bit error rate in SNR = 7.333333333333333 dB : 5.309559094212816e-06\n",
            "Bit error rate in SNR = 11.0 dB : 0.0\n"
          ]
        }
      ]
    },
    {
      "cell_type": "code",
      "source": [
        "plt.plot(EbN0_db_range_coding1, BER_coherent_coding1, 'o-',label='experiment', color='b')\n",
        "plt.xlabel('EbN0(dB)')\n",
        "plt.ylabel('BER')\n",
        "plt.grid(True)\n",
        "plt.title('Coherent QPSK with BCH(15, 11) channel coding')\n",
        "plt.show()"
      ],
      "metadata": {
        "colab": {
          "base_uri": "https://localhost:8080/",
          "height": 295
        },
        "id": "IuUwCq_hF4Cg",
        "outputId": "e4752fcc-b05f-4cb8-b165-bca9cb14ae72"
      },
      "execution_count": 114,
      "outputs": [
        {
          "output_type": "display_data",
          "data": {
            "text/plain": [
              "<Figure size 432x288 with 1 Axes>"
            ],
            "image/png": "[encoded data removed]"
          },
          "metadata": {
            "needs_background": "light"
          }
        }
      ]
    },
    {
      "cell_type": "markdown",
      "source": [
        "output data to .wav file connversion"
      ],
      "metadata": {
        "id": "i56IvKzCRKvJ"
      }
    },
    {
      "cell_type": "code",
      "source": [
        "sampleRate = rate # hertz\n",
        "duration = 4.0 # seconds\n",
        "obj = wave.open('drive/MyDrive/DigitCommProject/output_audios/part_b/coherent_coding1_EbN0_0.wav','w')\n",
        "obj.setnchannels(1) # mono\n",
        "obj.setsampwidth(2)\n",
        "obj.setframerate(sampleRate)\n",
        "output_data = list(output_data_coherent_coding1[0].ravel())  # flattening\n",
        "output_data = ''.join(str(x) for x in output_data) # converting to string\n",
        "output_audio = int(output_data, 2).to_bytes((len(output_data) + 7) // 8, byteorder='big')\n",
        "output_audio = header_bytes + output_audio\n",
        "obj.writeframes( output_audio ) "
      ],
      "metadata": {
        "id": "f618kUqqH4lO"
      },
      "execution_count": 117,
      "outputs": []
    },
    {
      "cell_type": "code",
      "source": [
        "sampleRate = rate # hertz\n",
        "duration = 4.0 # seconds\n",
        "obj = wave.open('drive/MyDrive/DigitCommProject/output_audios/part_b/coherent_coding1_EbN0_4.wav','w')\n",
        "obj.setnchannels(1) # mono\n",
        "obj.setsampwidth(2)\n",
        "obj.setframerate(sampleRate)\n",
        "output_data = list(output_data_coherent_coding1[1].ravel())  # flattening\n",
        "output_data = ''.join(str(x) for x in output_data) # converting to string\n",
        "output_audio = int(output_data, 2).to_bytes((len(output_data) + 7) // 8, byteorder='big')\n",
        "output_audio = header_bytes + output_audio\n",
        "obj.writeframes( output_audio ) "
      ],
      "metadata": {
        "id": "bnB4ftm5H4lO"
      },
      "execution_count": 118,
      "outputs": []
    },
    {
      "cell_type": "code",
      "source": [
        "sampleRate = rate # hertz\n",
        "duration = 4.0 # seconds\n",
        "obj = wave.open('drive/MyDrive/DigitCommProject/output_audios/part_b/coherent_coding1_EbN0_7.wav','w')\n",
        "obj.setnchannels(1) # mono\n",
        "obj.setsampwidth(2)\n",
        "obj.setframerate(sampleRate)\n",
        "output_data = list(output_data_coherent_coding1[2].ravel())  # flattening\n",
        "output_data = ''.join(str(x) for x in output_data) # converting to string\n",
        "output_audio = int(output_data, 2).to_bytes((len(output_data) + 7) // 8, byteorder='big')\n",
        "output_audio = header_bytes + output_audio\n",
        "obj.writeframes( output_audio ) "
      ],
      "metadata": {
        "id": "i6Atl64sH4lO"
      },
      "execution_count": 119,
      "outputs": []
    },
    {
      "cell_type": "code",
      "source": [
        "sampleRate = rate # hertz\n",
        "duration = 4.0 # seconds\n",
        "obj = wave.open('drive/MyDrive/DigitCommProject/output_audios/part_b/coherent_coding1_EbN0_11.wav','w')\n",
        "obj.setnchannels(1) # mono\n",
        "obj.setsampwidth(2)\n",
        "obj.setframerate(sampleRate)\n",
        "output_data = list(output_data_coherent_coding1[3].ravel())  # flattening\n",
        "output_data = ''.join(str(x) for x in output_data) # converting to string\n",
        "output_audio = int(output_data, 2).to_bytes((len(output_data) + 7) // 8, byteorder='big')\n",
        "output_audio = header_bytes + output_audio\n",
        "obj.writeframes( output_audio ) "
      ],
      "metadata": {
        "id": "cW5H6gCRH4lO"
      },
      "execution_count": 122,
      "outputs": []
    },
    {
      "cell_type": "markdown",
      "source": [
        "BCH(15, 7)"
      ],
      "metadata": {
        "id": "w97HRp6wZt5B"
      }
    },
    {
      "cell_type": "code",
      "source": [
        "# parameters of the coder\n",
        "n2 = 15\n",
        "k2 = 7\n",
        "m2 = 4\n",
        "t2 = 2\n",
        "code2 = komm.BCHCode(m2 ,t2) \n",
        "print('Code length:', code2.length)\n",
        "print('Code dimension:', code2.dimension)"
      ],
      "metadata": {
        "colab": {
          "base_uri": "https://localhost:8080/"
        },
        "id": "72UD0sNW5-U3",
        "outputId": "474ac220-811f-4a01-a621-05033cc58947"
      },
      "execution_count": 448,
      "outputs": [
        {
          "output_type": "stream",
          "name": "stdout",
          "text": [
            "Code length: 15\n",
            "Code dimension: 7\n"
          ]
        }
      ]
    },
    {
      "cell_type": "code",
      "execution_count": 514,
      "metadata": {
        "id": "5-hYfz2eZtDl"
      },
      "outputs": [],
      "source": [
        "N = len(Information_bits)\n",
        "Information_bits_padded = Information_bits + '0000000000000000'\n",
        "N_padded = len(Information_bits_padded)\n",
        "InputSym2 = [ Information_bits_padded[i:i+k2] for i in range(0, N, k2)]\n",
        "InputSym2_ = np.zeros((len(InputSym2), k2))\n",
        "for i in range(len(InputSym2)):\n",
        "  temp = list(int(str(x)) for x in InputSym2[i])\n",
        "  InputSym2_[i] = temp"
      ]
    },
    {
      "cell_type": "code",
      "source": [
        "CodedSignal2 = [code2.encode(p) for p in InputSym2_]\n",
        "print('shape of the coded signal: ', np.shape(CodedSignal2))\n",
        "CodedSignal2 = np.array(CodedSignal2).ravel()\n",
        "print('after reshape: ', np.shape(CodedSignal2))"
      ],
      "metadata": {
        "colab": {
          "base_uri": "https://localhost:8080/"
        },
        "id": "MsWLXdaVyx6D",
        "outputId": "2ff4fbc1-f704-4d65-a9f6-bd3c7b8972f6"
      },
      "execution_count": 515,
      "outputs": [
        {
          "output_type": "stream",
          "name": "stdout",
          "text": [
            "shape of the coded signal:  (484302, 15)\n",
            "after reshape:  (7264530,)\n"
          ]
        }
      ]
    },
    {
      "cell_type": "code",
      "source": [
        "#EbN0_db_range_coding2 = [ EbN0+10*np.log10(k2/n2) for EbN0 in [5, 10, 15, 20]]\n",
        "EbN0_db_range_coding2 = [(k2/n2)*i for i in EbN0_db_range]\n",
        "output_data_coherent_coding2 = []\n",
        "BER_coherent_coding2 = []\n",
        "\n",
        "qpsk = komm.PSKModulation(4, phase_offset=np.pi/4)\n",
        "modulated = qpsk.modulate(CodedSignal2)\n",
        "\n",
        "for EbN0_db in EbN0_db_range_coding2:\n",
        "  snr = 2* ( 10**(EbN0_db/10) )\n",
        "  awgn = komm.AWGNChannel(snr=snr, signal_power=1)\n",
        "  ChannelOutput = awgn(modulated)\n",
        "  demodulated = qpsk.demodulate(ChannelOutput)\n",
        "  demodulated_reshape = np.array(demodulated).reshape(-1, n2)\n",
        "  decoded = [code2.decode(p) for p in demodulated_reshape]\n",
        "  decoded = np.array(decoded)\n",
        "  decoded_ = np.ravel(decoded)\n",
        "\n",
        "  #num_error = np.sum(Information_bits != decoded)\n",
        "  num_error = np.sum(np.array(InputSym2_)!=decoded)\n",
        "  output_data_coherent_coding2.append(decoded)\n",
        "\n",
        "  #num_errors = sum(a!=b  for a, b in zip(Information_bits, decoded))\n",
        "  BER_coherent_coding2.append(num_error/N_new)\n",
        "\n",
        "  print('Bit error rate in SNR =', EbN0_db, 'dB :', num_error/N_new)"
      ],
      "metadata": {
        "colab": {
          "base_uri": "https://localhost:8080/"
        },
        "outputId": "ef07ad54-faa6-4bf4-a853-f2d054608db2",
        "id": "ydtY2IGcZtDm"
      },
      "execution_count": 516,
      "outputs": [
        {
          "output_type": "stream",
          "name": "stdout",
          "text": [
            "Bit error rate in SNR = 0.0 dB : 0.029435588301750325\n",
            "Bit error rate in SNR = 2.3333333333333335 dB : 0.002860375786772952\n",
            "Bit error rate in SNR = 4.666666666666667 dB : 4.749102832530115e-05\n",
            "Bit error rate in SNR = 7.0 dB : 0.0\n"
          ]
        }
      ]
    },
    {
      "cell_type": "code",
      "source": [
        "plt.plot(EbN0_db_range_coding2, BER_coherent_coding2, 'o-',label='experiment', color='b')\n",
        "plt.xlabel('EbN0(dB)')\n",
        "plt.ylabel('BER')\n",
        "plt.grid(True)\n",
        "plt.title('Coherent QPSK with BCH(15, 7) channel coding')\n",
        "plt.show()"
      ],
      "metadata": {
        "colab": {
          "base_uri": "https://localhost:8080/",
          "height": 295
        },
        "id": "HLNeGkexHhi6",
        "outputId": "a94fd0a1-bc72-407d-9e56-782997b2590f"
      },
      "execution_count": 454,
      "outputs": [
        {
          "output_type": "display_data",
          "data": {
            "text/plain": [
              "<Figure size 432x288 with 1 Axes>"
            ],
            "image/png": "[encoded data removed]"
          },
          "metadata": {
            "needs_background": "light"
          }
        }
      ]
    },
    {
      "cell_type": "markdown",
      "source": [
        "output data to .wav file connversion"
      ],
      "metadata": {
        "id": "eB4kSOMoSGIp"
      }
    },
    {
      "cell_type": "code",
      "source": [
        "sampleRate = rate # hertz\n",
        "duration = 4.0 # seconds\n",
        "obj = wave.open('drive/MyDrive/DigitCommProject/output_audios/part_b/coherent_coding2_EbN0_0.wav','w')\n",
        "obj.setnchannels(1) # mono\n",
        "obj.setsampwidth(2)\n",
        "obj.setframerate(sampleRate)\n",
        "output_data = list(output_data_coherent_coding2[0].ravel())  # flattening\n",
        "output_data = ''.join(str(x) for x in output_data) # converting to string\n",
        "output_data = output_data[0:len(output_data)-2]\n",
        "output_audio = int(output_data, 2).to_bytes((len(output_data) + 7) // 8, byteorder='big')\n",
        "output_audio = header_bytes + output_audio\n",
        "obj.writeframes( output_audio ) "
      ],
      "metadata": {
        "id": "uFKrsSDNSGIp"
      },
      "execution_count": 527,
      "outputs": []
    },
    {
      "cell_type": "code",
      "source": [
        "sampleRate = rate # hertz\n",
        "duration = 4.0 # seconds\n",
        "obj = wave.open('drive/MyDrive/DigitCommProject/output_audios/part_b/coherent_coding2_EbN0_2.wav','w')\n",
        "obj.setnchannels(1) # mono\n",
        "obj.setsampwidth(2)\n",
        "obj.setframerate(sampleRate)\n",
        "output_data = list(output_data_coherent_coding2[1].ravel())  # flattening\n",
        "output_data = ''.join(str(x) for x in output_data) # converting to string\n",
        "output_data = output_data[0:len(output_data)-2]\n",
        "output_audio = int(output_data, 2).to_bytes((len(output_data) + 7) // 8, byteorder='big')\n",
        "output_audio = header_bytes + output_audio\n",
        "obj.writeframes( output_audio ) "
      ],
      "metadata": {
        "id": "Yoox3Ho3SGIq"
      },
      "execution_count": 528,
      "outputs": []
    },
    {
      "cell_type": "code",
      "source": [
        "sampleRate = rate # hertz\n",
        "duration = 4.0 # seconds\n",
        "obj = wave.open('drive/MyDrive/DigitCommProject/output_audios/part_b/coherent_coding2_EbN0_4.wav','w')\n",
        "obj.setnchannels(1) # mono\n",
        "obj.setsampwidth(2)\n",
        "obj.setframerate(sampleRate)\n",
        "output_data = list(output_data_coherent_coding2[2].ravel())  # flattening\n",
        "output_data = ''.join(str(x) for x in output_data) # converting to string\n",
        "output_data = output_data[0:len(output_data)-2]\n",
        "output_audio = int(output_data, 2).to_bytes((len(output_data) + 7) // 8, byteorder='big')\n",
        "output_audio = header_bytes + output_audio\n",
        "obj.writeframes( output_audio ) "
      ],
      "metadata": {
        "id": "d3BNyXnlSGIq"
      },
      "execution_count": 529,
      "outputs": []
    },
    {
      "cell_type": "code",
      "source": [
        "sampleRate = rate # hertz\n",
        "duration = 4.0 # seconds\n",
        "obj = wave.open('drive/MyDrive/DigitCommProject/output_audios/part_b/coherent_coding2_EbN0_7.wav','w')\n",
        "obj.setnchannels(1) # mono\n",
        "obj.setsampwidth(2)\n",
        "obj.setframerate(sampleRate)\n",
        "output_data = list(output_data_coherent_coding2[3].ravel())  # flattening\n",
        "output_data = ''.join(str(x) for x in output_data) # converting to string\n",
        "output_data = output_data[0:len(output_data)-2]\n",
        "output_audio = int(output_data, 2).to_bytes((len(output_data) + 7) // 8, byteorder='big')\n",
        "output_audio = header_bytes + output_audio\n",
        "obj.writeframes( output_audio ) "
      ],
      "metadata": {
        "id": "UTWtlCqESGIq"
      },
      "execution_count": 530,
      "outputs": []
    },
    {
      "cell_type": "markdown",
      "source": [
        "## Non-coherent:"
      ],
      "metadata": {
        "id": "Z_U29HcRSOwz"
      }
    },
    {
      "cell_type": "markdown",
      "source": [
        "BCH(15, 11)"
      ],
      "metadata": {
        "id": "GVcSMR-OYCWB"
      }
    },
    {
      "cell_type": "code",
      "source": [
        "CodedSignal1_str = ''.join(str(x) for x in CodedSignal1)\n",
        "CodedSignal1_str_new = '00' + CodedSignal1_str"
      ],
      "metadata": {
        "id": "3y39wXprYTR3"
      },
      "execution_count": 491,
      "outputs": []
    },
    {
      "cell_type": "code",
      "source": [
        "output_data_noncoherent_coding1 = []\n",
        "BER_noncoherent_coding1 = []\n",
        "\n",
        "\n",
        "for EbN0_db in EbN0_db_range_coding1:\n",
        "  # modulation\n",
        "  ModulatedSig = non_coherent_qpsk_mod(CodedSignal1_str_new)\n",
        "  # non-coherent channel\n",
        "  ChannelOutput = non_coherent_AWGN_Channel(ModulatedSig, 2*EbN0_db)\n",
        "  # demodulation\n",
        "  DemodulatedSig = non_coherent_qpsk_demod1(ChannelOutput)\n",
        "  # decoding\n",
        "  DemodulatedSig_list = list(DemodulatedSig)\n",
        "  DemodulatedSig_intarr = [int(x) for x in DemodulatedSig_list]\n",
        "  DemodulatedSig_reshape = np.array(DemodulatedSig_intarr).reshape(-1, n1)\n",
        "  decoded = [code1.decode(p) for p in DemodulatedSig_reshape]\n",
        "  decoded = np.array(decoded).ravel()\n",
        "  decoded_str = ''.join(str(x) for x in decoded)\n",
        "\n",
        "\n",
        "  num_errors = sum(a!=b  for a, b in zip(Information_bits, decoded_str))\n",
        "  ber = num_errors/len(Information_bits)\n",
        "  BER_noncoherent_coding1.append(ber)\n",
        "  output_data_noncoherent_coding1.append(decoded_str)\n",
        "\n",
        "  print('Bit error rate in Eb/N0 =', EbN0_db, 'dB :', ber)"
      ],
      "metadata": {
        "colab": {
          "base_uri": "https://localhost:8080/"
        },
        "id": "yrFtBPuZSQeO",
        "outputId": "01450e6f-2f78-4311-e568-59f383efecf3"
      },
      "execution_count": 498,
      "outputs": [
        {
          "output_type": "stream",
          "name": "stdout",
          "text": [
            "Bit error rate in Eb/N0 = 0.0 dB : 0.4997955819748728\n",
            "Bit error rate in Eb/N0 = 3.6666666666666665 dB : 0.49812130100716434\n",
            "Bit error rate in Eb/N0 = 7.333333333333333 dB : 0.0\n",
            "Bit error rate in Eb/N0 = 11.0 dB : 0.0\n"
          ]
        }
      ]
    },
    {
      "cell_type": "code",
      "source": [
        "plt.plot(EbN0_db_range_coding1, BER_noncoherent_coding1, 'o-',label='experiment', color='b')\n",
        "plt.xlabel('EbN0(dB)')\n",
        "plt.ylabel('BER')\n",
        "plt.grid(True)\n",
        "plt.title('Non-coherent QPSK with BCH(15, 11) channel coding')\n",
        "plt.show()"
      ],
      "metadata": {
        "colab": {
          "base_uri": "https://localhost:8080/",
          "height": 295
        },
        "id": "eX4KeHUxjNuF",
        "outputId": "710aa13f-5dcc-4a6c-a9aa-5d64e9faee3d"
      },
      "execution_count": 499,
      "outputs": [
        {
          "output_type": "display_data",
          "data": {
            "text/plain": [
              "<Figure size 432x288 with 1 Axes>"
            ],
            "image/png": "[encoded data removed]"
          },
          "metadata": {
            "needs_background": "light"
          }
        }
      ]
    },
    {
      "cell_type": "code",
      "source": [
        "sampleRate = rate # hertz\n",
        "duration = 4.0 # seconds\n",
        "obj = wave.open('drive/MyDrive/DigitCommProject/output_audios/part_b/noncoherent_coding1_EbN0_0.wav','w')\n",
        "obj.setnchannels(1) # mono\n",
        "obj.setsampwidth(2)\n",
        "obj.setframerate(sampleRate)\n",
        "output_audio = int(output_data_noncoherent_coding1[0], 2).to_bytes((len(output_data_noncoherent_coding1[0]) + 7) // 8, byteorder='big')\n",
        "output_audio = header_bytes + output_audio\n",
        "obj.writeframes( output_audio ) "
      ],
      "metadata": {
        "id": "i6miPiPjjfIh"
      },
      "execution_count": 505,
      "outputs": []
    },
    {
      "cell_type": "code",
      "source": [
        "sampleRate = rate # hertz\n",
        "duration = 4.0 # seconds\n",
        "obj = wave.open('drive/MyDrive/DigitCommProject/output_audios/part_b/noncoherent_coding1_EbN0_4.wav','w')\n",
        "obj.setnchannels(1) # mono\n",
        "obj.setsampwidth(2)\n",
        "obj.setframerate(sampleRate)\n",
        "output_audio = int(output_data_noncoherent_coding1[1], 2).to_bytes((len(output_data_noncoherent_coding1[1]) + 7) // 8, byteorder='big')\n",
        "output_audio = header_bytes + output_audio\n",
        "obj.writeframes( output_audio ) "
      ],
      "metadata": {
        "id": "QM_bFLvVjfIi"
      },
      "execution_count": 506,
      "outputs": []
    },
    {
      "cell_type": "code",
      "source": [
        "sampleRate = rate # hertz\n",
        "duration = 4.0 # seconds\n",
        "obj = wave.open('drive/MyDrive/DigitCommProject/output_audios/part_b/noncoherent_coding1_EbN0_7.wav','w')\n",
        "obj.setnchannels(1) # mono\n",
        "obj.setsampwidth(2)\n",
        "obj.setframerate(sampleRate)\n",
        "output_audio = int(output_data_noncoherent_coding1[2], 2).to_bytes((len(output_data_noncoherent_coding1[2]) + 7) // 8, byteorder='big')\n",
        "output_audio = header_bytes + output_audio\n",
        "obj.writeframes( output_audio ) "
      ],
      "metadata": {
        "id": "p9jgwYZ3jfIi"
      },
      "execution_count": 507,
      "outputs": []
    },
    {
      "cell_type": "code",
      "source": [
        "sampleRate = rate # hertz\n",
        "duration = 4.0 # seconds\n",
        "obj = wave.open('drive/MyDrive/DigitCommProject/output_audios/part_b/noncoherent_coding1_EbN0_11.wav','w')\n",
        "obj.setnchannels(1) # mono\n",
        "obj.setsampwidth(2)\n",
        "obj.setframerate(sampleRate)\n",
        "output_audio = int(output_data_noncoherent_coding1[3], 2).to_bytes((len(output_data_noncoherent_coding1[3]) + 7) // 8, byteorder='big')\n",
        "output_audio = header_bytes + output_audio\n",
        "obj.writeframes( output_audio ) "
      ],
      "metadata": {
        "id": "I47XEENkjfIi"
      },
      "execution_count": 509,
      "outputs": []
    },
    {
      "cell_type": "markdown",
      "source": [
        "BCH(15, 7)"
      ],
      "metadata": {
        "id": "aNCAOhBKuCkE"
      }
    },
    {
      "cell_type": "code",
      "source": [
        "CodedSignal2_str = ''.join(str(x) for x in CodedSignal2)\n",
        "CodedSignal2_str_new = '00' + CodedSignal2_str"
      ],
      "metadata": {
        "id": "RCVvJCqkuCkI"
      },
      "execution_count": 531,
      "outputs": []
    },
    {
      "cell_type": "code",
      "source": [
        "output_data_noncoherent_coding2 = []\n",
        "BER_noncoherent_coding2 = []\n",
        "\n",
        "\n",
        "for EbN0_db in EbN0_db_range_coding2:\n",
        "  # modulation\n",
        "  ModulatedSig = non_coherent_qpsk_mod(CodedSignal2_str_new)\n",
        "  # non-coherent channel\n",
        "  ChannelOutput = non_coherent_AWGN_Channel(ModulatedSig, 2*EbN0_db)\n",
        "  # demodulation\n",
        "  DemodulatedSig = non_coherent_qpsk_demod1(ChannelOutput)\n",
        "  # decoding\n",
        "  DemodulatedSig_list = list(DemodulatedSig)\n",
        "  DemodulatedSig_intarr = [int(x) for x in DemodulatedSig_list]\n",
        "  DemodulatedSig_reshape = np.array(DemodulatedSig_intarr).reshape(-1, n2)\n",
        "  decoded = [code1.decode(p) for p in DemodulatedSig_reshape]\n",
        "  decoded = np.array(decoded).ravel()\n",
        "  decoded_str = ''.join(str(x) for x in decoded)\n",
        "\n",
        "\n",
        "  num_errors = sum(a!=b  for a, b in zip(Information_bits_padded, decoded_str))\n",
        "  ber = num_errors/len(Information_bits)\n",
        "  BER_noncoherent_coding2.append(ber)\n",
        "  output_data_noncoherent_coding2.append(decoded_str)\n",
        "\n",
        "  print('Bit error rate in Eb/N0 =', EbN0_db, 'dB :', ber)"
      ],
      "metadata": {
        "colab": {
          "base_uri": "https://localhost:8080/"
        },
        "outputId": "ce85ea7e-ef66-42b8-b056-fe1aa4250719",
        "id": "bSWxbTSDuCkI"
      },
      "execution_count": 534,
      "outputs": [
        {
          "output_type": "stream",
          "name": "stdout",
          "text": [
            "Bit error rate in Eb/N0 = 0.0 dB : 0.49955075230552853\n",
            "Bit error rate in Eb/N0 = 2.3333333333333335 dB : 0.4997740487629907\n",
            "Bit error rate in Eb/N0 = 4.666666666666667 dB : 0.5003179835946423\n",
            "Bit error rate in Eb/N0 = 7.0 dB : 0.5003380419289982\n"
          ]
        }
      ]
    }
  ]
}